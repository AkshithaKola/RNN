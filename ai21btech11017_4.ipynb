{
  "nbformat": 4,
  "nbformat_minor": 0,
  "metadata": {
    "colab": {
      "provenance": [],
      "authorship_tag": "ABX9TyNNtbljMElBXtlJPOYtL5Pl",
      "include_colab_link": true
    },
    "kernelspec": {
      "name": "python3",
      "display_name": "Python 3"
    },
    "language_info": {
      "name": "python"
    }
  },
  "cells": [
    {
      "cell_type": "markdown",
      "metadata": {
        "id": "view-in-github",
        "colab_type": "text"
      },
      "source": [
        "<a href=\"https://colab.research.google.com/github/AkshithaKola/RNN/blob/main/ai21btech11017_4.ipynb\" target=\"_parent\"><img src=\"https://colab.research.google.com/assets/colab-badge.svg\" alt=\"Open In Colab\"/></a>"
      ]
    },
    {
      "cell_type": "code",
      "execution_count": null,
      "metadata": {
        "id": "DPajgh_x4V2V"
      },
      "outputs": [],
      "source": [
        "import numpy as np\n",
        "import matplotlib.pyplot as plt\n",
        "import torch\n",
        "import random\n",
        "import torch.optim as optim\n",
        "import os"
      ]
    },
    {
      "cell_type": "markdown",
      "source": [
        "Dataset creation"
      ],
      "metadata": {
        "id": "Qe1WSsv4p1Qk"
      }
    },
    {
      "cell_type": "code",
      "source": [
        "length=np.random.randint(2,9,7000)\n",
        "total_set=[]\n",
        "\n",
        "for j in range(0,7000):\n",
        "  l=[]\n",
        "  a=length[j]\n",
        "  seq1=torch.rand(a,1)\n",
        "  seq2=torch.zeros(a,1)\n",
        "  x=random.randint(1,a)\n",
        "  y=random.randint(1,a)\n",
        "  while x==y:\n",
        "    y=random.randint(1,a)\n",
        "  seq2[x-1]=1\n",
        "  seq2[y-1]=1\n",
        "  seq=torch.cat((seq1,seq2),dim=1)\n",
        "  l.append(seq)\n",
        "  l.append(seq1[x-1]+seq1[y-1])\n",
        "  total_set.append(l)\n",
        "train_set=total_set[0:5000]\n",
        "test_set=total_set[5000:7000]\n",
        "\n",
        "no_of_epochs=25\n"
      ],
      "metadata": {
        "id": "LV-l7eoU4Z9K"
      },
      "execution_count": null,
      "outputs": []
    },
    {
      "cell_type": "code",
      "source": [
        "#baseline predicting sum of 1\n",
        "loss=0\n",
        "for i in range(0,5000):\n",
        "  loss +=((1 - train_set[i][1])**2).sum()\n",
        "baseline=np.full((no_of_epochs,),loss/5000)"
      ],
      "metadata": {
        "id": "knDrm3AZqLfh"
      },
      "execution_count": null,
      "outputs": []
    },
    {
      "cell_type": "markdown",
      "source": [
        "Elman Network"
      ],
      "metadata": {
        "id": "Ekt909rMwTcy"
      }
    },
    {
      "cell_type": "code",
      "source": [
        "class elman_network():\n",
        "  def __init__(self,H):\n",
        "    #we know that input depth is a constant-->2 and the size of output is-->1\n",
        "    self.x_size=2\n",
        "    self.y_size=1\n",
        "    self.h_size=H\n",
        "\n",
        "    self.w_xh=torch.rand(H,2,requires_grad=True)\n",
        "    self.w_hh=torch.rand(H,H,requires_grad=True)\n",
        "    self.w_yh=torch.rand(1,H,requires_grad=True)\n",
        "\n",
        "    self.b_h=torch.rand(H,1,requires_grad=True)\n",
        "    self.b_y=torch.rand(1,1,requires_grad=True)\n",
        "    self.optimizer = optim.RMSprop([self.w_xh, self.w_hh, self.w_yh, self.b_h, self.b_y], lr=0.01)\n",
        "  def forward(self,x):\n",
        "    h=torch.zeros(self.h_size,1)\n",
        "    a=x.shape[0]\n",
        "\n",
        "    for i in range(0,a):\n",
        "      w=torch.matmul(self.w_xh,x[i]).unsqueeze(1)\n",
        "      y=torch.matmul(self.w_hh,h)\n",
        "      z=self.b_h\n",
        "      h=torch.tanh(w+y+z)\n",
        "    t=torch.matmul(self.w_yh,h)\n",
        "    y=torch.relu(t+self.b_y)\n",
        "    return y\n",
        "\n",
        "  def train(self,x,no_of_epochs):\n",
        "    with open('elman.txt','w') as f:\n",
        "      for j in range(0,no_of_epochs):\n",
        "        epoch_loss=0\n",
        "        for i in range(0,len(x)):\n",
        "          y_p=self.forward(x[i][0])\n",
        "          loss =((y_p - x[i][1])**2).sum()\n",
        "          epoch_loss +=loss\n",
        "          self.optimizer.zero_grad()\n",
        "          loss.backward()\n",
        "          self.optimizer.step()\n",
        "        a=str(epoch_loss.detach().numpy()/5000)\n",
        "        f.write(a+'\\n')"
      ],
      "metadata": {
        "id": "oXedtS8R4aAg"
      },
      "execution_count": null,
      "outputs": []
    },
    {
      "cell_type": "markdown",
      "source": [
        "LSTM"
      ],
      "metadata": {
        "id": "rkhdQRlpwYB-"
      }
    },
    {
      "cell_type": "code",
      "source": [
        "class LSTM():\n",
        "  def __init__(self,H,C):\n",
        "    #we know that input depth is a constant-->2 and the size of output is-->1\n",
        "    #C is the number of cell states\n",
        "    self.x_size=2\n",
        "    self.y_size=1\n",
        "    self.h_size=H\n",
        "    self.c_size=C\n",
        "\n",
        "    self.w_i=torch.rand(C,2+H,requires_grad=True)\n",
        "    self.w_f=torch.rand(C,2+H,requires_grad=True)\n",
        "    self.w_o=torch.rand(C,2+H,requires_grad=True)\n",
        "    self.w_c=torch.rand(C,2+H,requires_grad=True)\n",
        "    self.w_y=torch.rand(1,H,requires_grad=True)\n",
        "\n",
        "    self.b_o=torch.rand(C,1,requires_grad=True)\n",
        "    self.b_i=torch.rand(C,1,requires_grad=True)\n",
        "    self.b_f=torch.rand(C,1,requires_grad=True)\n",
        "    self.b_c=torch.rand(C,1,requires_grad=True)\n",
        "    self.b_y=torch.rand(1,1,requires_grad=True)\n",
        "    self.optimizer = optim.RMSprop([self.w_i, self.w_f, self.w_o,self.w_c,self.w_y,self.b_o,self.b_i,self.b_f,self.b_c, self.b_y], lr=0.01)\n",
        "  def forward(self,x):\n",
        "    h=torch.zeros(self.h_size,1)\n",
        "    c=torch.zeros(self.c_size,1)\n",
        "    a=x.shape[0]\n",
        "    for j in range(0,a):\n",
        "      merge=torch.cat((h,x[j].unsqueeze(1)),dim=0)\n",
        "      f=torch.sigmoid(torch.matmul(self.w_f,merge)+self.b_f)\n",
        "      i=torch.sigmoid(torch.matmul(self.w_i,merge)+self.b_i)\n",
        "      g=torch.tanh(torch.matmul(self.w_c,merge)+self.b_c)\n",
        "      c=f*c+i*g\n",
        "      o=torch.sigmoid(torch.matmul(self.w_o,merge)+self.b_o)\n",
        "      h=o*torch.tanh(c)\n",
        "    t=torch.matmul(self.w_y,h)\n",
        "    y=torch.relu(t+self.b_y)\n",
        "    return y\n",
        "\n",
        "  def train(self,x,no_of_epochs):\n",
        "    with open('lstm.txt','w') as f:\n",
        "      for j in range(0,no_of_epochs):\n",
        "        epoch_loss=0\n",
        "        for i in range(0,len(x)):\n",
        "          y_p=self.forward(x[i][0])\n",
        "          loss =((y_p - x[i][1])**2).sum()\n",
        "          epoch_loss +=loss\n",
        "          self.optimizer.zero_grad()\n",
        "          loss.backward()\n",
        "          self.optimizer.step()\n",
        "        a=str(epoch_loss.detach().numpy()/5000)\n",
        "        f.write(a+'\\n')\n",
        ""
      ],
      "metadata": {
        "id": "33wGbbscv58r"
      },
      "execution_count": null,
      "outputs": []
    },
    {
      "cell_type": "markdown",
      "source": [
        "GRU"
      ],
      "metadata": {
        "id": "sVeGrbXCrGl-"
      }
    },
    {
      "cell_type": "code",
      "source": [
        "class GRU():\n",
        "  def __init__(self,H):\n",
        "    #we know that input depth is a constant-->2 and the size of output is-->1\n",
        "    self.x_size=2\n",
        "    self.y_size=1\n",
        "    self.h_size=H\n",
        "\n",
        "    self.w_z=torch.rand(H,2+H,requires_grad=True)\n",
        "    self.w_r=torch.rand(H,2+H,requires_grad=True)\n",
        "    self.w=torch.rand(H,2+H,requires_grad=True)\n",
        "    self.w_y=torch.rand(1,H,requires_grad=True)\n",
        "\n",
        "    self.b_y=torch.rand(1,1,requires_grad=True)\n",
        "    self.optimizer = optim.RMSprop([self.w_z, self.w_r, self.w,self.w_y,self.b_y], lr=0.01)\n",
        "  def forward(self,x):\n",
        "    h=torch.zeros(self.h_size,1)\n",
        "    a=x.shape[0]\n",
        "    ones_vec=torch.ones(self.h_size,1)\n",
        "    for j in range(0,a):\n",
        "      merge1=torch.cat((h,x[j].unsqueeze(1)),dim=0)\n",
        "      z=torch.sigmoid(torch.matmul(self.w_z,merge1))\n",
        "      r=torch.sigmoid(torch.matmul(self.w_r,merge1))\n",
        "      merge2=torch.cat((r*h,x[j].unsqueeze(1)),dim=0)\n",
        "      g=torch.tanh(torch.matmul(self.w,merge2))\n",
        "      h=(ones_vec-z)*h+z*g\n",
        "    t=torch.matmul(self.w_y,h)\n",
        "    y=torch.relu(t+self.b_y)\n",
        "    return y\n",
        "\n",
        "  def train(self,x,no_of_epochs):\n",
        "    with open('gru.txt','w') as f:\n",
        "      for j in range(0,no_of_epochs):\n",
        "        epoch_loss=0\n",
        "        for i in range(0,len(x)):\n",
        "          y_p=self.forward(x[i][0])\n",
        "          loss =((y_p - x[i][1])**2).sum()\n",
        "          epoch_loss +=loss\n",
        "          self.optimizer.zero_grad()\n",
        "          loss.backward()\n",
        "          self.optimizer.step()\n",
        "        a=str(epoch_loss.detach().numpy()/5000)\n",
        "        f.write(a+'\\n')"
      ],
      "metadata": {
        "id": "Aju5id_qrFXn"
      },
      "execution_count": null,
      "outputs": []
    },
    {
      "cell_type": "code",
      "source": [
        "gru=GRU(3)\n",
        "gru.train(train_set,no_of_epochs)"
      ],
      "metadata": {
        "id": "0vOooD-mrFx2"
      },
      "execution_count": null,
      "outputs": []
    },
    {
      "cell_type": "code",
      "source": [
        "elman=elman_network(3)\n",
        "elman.train(train_set,no_of_epochs)"
      ],
      "metadata": {
        "id": "YeJvMzUL4lcW"
      },
      "execution_count": null,
      "outputs": []
    },
    {
      "cell_type": "code",
      "source": [
        "lstm=LSTM(3,3)\n",
        "lstm.train(train_set,no_of_epochs)"
      ],
      "metadata": {
        "id": "RweGmiv54hOM"
      },
      "execution_count": null,
      "outputs": []
    },
    {
      "cell_type": "code",
      "source": [
        "elman_loss=0\n",
        "for i in range(0,len(test_set)):\n",
        "  y=elman.forward(test_set[i][0])\n",
        "  elman_loss +=((y-test_set[i][1])**2).sum()\n",
        "elman_loss=elman_loss/len(test_set)"
      ],
      "metadata": {
        "id": "UPoFNRu3EDBY"
      },
      "execution_count": null,
      "outputs": []
    },
    {
      "cell_type": "code",
      "source": [
        "lstm_loss=0\n",
        "for i in range(0,len(test_set)):\n",
        "  y=lstm.forward(test_set[i][0])\n",
        "  lstm_loss +=((y-test_set[i][1])**2).sum()\n",
        "lstm_loss=lstm_loss/len(test_set)"
      ],
      "metadata": {
        "id": "qJL_zC6d9U3Z"
      },
      "execution_count": null,
      "outputs": []
    },
    {
      "cell_type": "code",
      "source": [
        "gru_loss=0\n",
        "for i in range(0,len(test_set)):\n",
        "  y=gru.forward(test_set[i][0])\n",
        "  gru_loss +=((y-test_set[i][1])**2).sum()\n",
        "gru_loss=gru_loss/len(test_set)"
      ],
      "metadata": {
        "id": "uFCiM1dW9dWh"
      },
      "execution_count": null,
      "outputs": []
    },
    {
      "cell_type": "code",
      "source": [
        "x_axis=np.linspace(1,25,25)\n",
        "y1=np.loadtxt('elman.txt')\n",
        "y2=baseline\n",
        "y3=np.loadtxt('lstm.txt')\n",
        "y4=np.loadtxt('gru.txt')\n",
        "plt.plot(x_axis, y1,label='elman net')\n",
        "plt.plot(x_axis, y2,label='baseline')\n",
        "plt.plot(x_axis, y3,label='LSTM')\n",
        "plt.plot(x_axis, y4,label='GRU')\n",
        "plt.xlabel('Number of epochs')\n",
        "plt.ylabel('Loss')\n",
        "plt.legend()\n",
        "plt.show()"
      ],
      "metadata": {
        "colab": {
          "base_uri": "https://localhost:8080/",
          "height": 449
        },
        "id": "WCgTgwMtD7t4",
        "outputId": "be18d1a8-5ffe-4688-dea4-414daee767ea"
      },
      "execution_count": null,
      "outputs": [
        {
          "output_type": "display_data",
          "data": {
            "text/plain": [
              "<Figure size 640x480 with 1 Axes>"
            ],
            "image/png": "[encoded data removed]"
          },
          "metadata": {}
        }
      ]
    },
    {
      "cell_type": "code",
      "source": [
        "x1=['Elman net','LSTM','GRU']\n",
        "y1=[elman_loss.detach().numpy(),lstm_loss.detach().numpy(),gru_loss.detach().numpy()]\n",
        "\n",
        "plt.bar(x1,y1,color='violet')\n",
        "plt.ylabel('loss')\n",
        "plt.show()"
      ],
      "metadata": {
        "colab": {
          "base_uri": "https://localhost:8080/",
          "height": 430
        },
        "id": "sA6uVaAqNWBA",
        "outputId": "47344092-7cc5-4105-8f5a-21cd01e1c7fb"
      },
      "execution_count": null,
      "outputs": [
        {
          "output_type": "display_data",
          "data": {
            "text/plain": [
              "<Figure size 640x480 with 1 Axes>"
            ],
            "image/png": "[encoded data removed]"
          },
          "metadata": {}
        }
      ]
    },
    {
      "cell_type": "code",
      "source": [
        "os.remove('/content/elman.txt')\n",
        "os.remove('/content/gru.txt')\n",
        "os.remove('/content/lstm.txt')"
      ],
      "metadata": {
        "id": "w17R3yYA-bNM"
      },
      "execution_count": null,
      "outputs": []
    }
  ]
}